{
 "cells": [
  {
   "cell_type": "code",
   "execution_count": 1,
   "id": "81c43fc3",
   "metadata": {},
   "outputs": [],
   "source": [
    "#!pip3 install matplotlib_venn"
   ]
  },
  {
   "cell_type": "code",
   "execution_count": 58,
   "id": "cf16ae41",
   "metadata": {
    "id": "cf16ae41"
   },
   "outputs": [],
   "source": [
    "import pandas as pd\n",
    "import numpy as np\n",
    "from matplotlib_venn import venn2\n",
    "import matplotlib.pyplot as plt\n",
    "import nltk\n",
    "from nltk.corpus import stopwords\n",
    "from nltk.tokenize import word_tokenize\n",
    "from collections import Counter\n",
    "from fuzzywuzzy import fuzz\n",
    "import jellyfish\n",
    "from fuzzywuzzy import process"
   ]
  },
  {
   "cell_type": "code",
   "execution_count": 3,
   "id": "9b0fa09d",
   "metadata": {
    "id": "9b0fa09d"
   },
   "outputs": [],
   "source": [
    "left = pd.read_csv('left_dataset.csv')\n",
    "right = pd.read_csv('right_dataset.csv')\n"
   ]
  },
  {
   "cell_type": "code",
   "execution_count": 68,
   "id": "4b4d0745",
   "metadata": {},
   "outputs": [],
   "source": [
    "left_df = left_df[0:10]\n",
    "right_df = right_df[:10]"
   ]
  },
  {
   "cell_type": "code",
   "execution_count": 4,
   "id": "917b22ad",
   "metadata": {
    "id": "917b22ad",
    "outputId": "7ee14fa1-96fd-44fe-ef33-8c70471bdad1"
   },
   "outputs": [
    {
     "name": "stdout",
     "output_type": "stream",
     "text": [
      "<class 'pandas.core.frame.DataFrame'>\n",
      "RangeIndex: 98509 entries, 0 to 98508\n",
      "Data columns (total 7 columns):\n",
      " #   Column       Non-Null Count  Dtype  \n",
      "---  ------       --------------  -----  \n",
      " 0   business_id  98509 non-null  int64  \n",
      " 1   name         98509 non-null  object \n",
      " 2   address      98509 non-null  object \n",
      " 3   city         98509 non-null  object \n",
      " 4   state        98509 non-null  object \n",
      " 5   zip_code     98509 non-null  object \n",
      " 6   size         98509 non-null  float64\n",
      "dtypes: float64(1), int64(1), object(5)\n",
      "memory usage: 5.3+ MB\n"
     ]
    }
   ],
   "source": [
    "left.info()"
   ]
  },
  {
   "cell_type": "code",
   "execution_count": 5,
   "id": "2e0282c9",
   "metadata": {
    "id": "2e0282c9",
    "outputId": "c8f23a5c-51c4-4824-e456-59958071beae"
   },
   "outputs": [
    {
     "name": "stdout",
     "output_type": "stream",
     "text": [
      "<class 'pandas.core.frame.DataFrame'>\n",
      "RangeIndex: 94585 entries, 0 to 94584\n",
      "Data columns (total 7 columns):\n",
      " #   Column       Non-Null Count  Dtype  \n",
      "---  ------       --------------  -----  \n",
      " 0   entity_id    94585 non-null  int64  \n",
      " 1   name         94585 non-null  object \n",
      " 2   address      91787 non-null  object \n",
      " 3   city         94585 non-null  object \n",
      " 4   state        94585 non-null  object \n",
      " 5   postal_code  94548 non-null  float64\n",
      " 6   categories   94523 non-null  object \n",
      "dtypes: float64(1), int64(1), object(5)\n",
      "memory usage: 5.1+ MB\n"
     ]
    }
   ],
   "source": [
    "right.info()"
   ]
  },
  {
   "cell_type": "code",
   "execution_count": 6,
   "id": "0e26ea52",
   "metadata": {
    "id": "0e26ea52",
    "outputId": "ce4b6d5c-92fc-40ec-e941-d0e2b9bc11fa"
   },
   "outputs": [
    {
     "data": {
      "text/html": [
       "<div>\n",
       "<style scoped>\n",
       "    .dataframe tbody tr th:only-of-type {\n",
       "        vertical-align: middle;\n",
       "    }\n",
       "\n",
       "    .dataframe tbody tr th {\n",
       "        vertical-align: top;\n",
       "    }\n",
       "\n",
       "    .dataframe thead th {\n",
       "        text-align: right;\n",
       "    }\n",
       "</style>\n",
       "<table border=\"1\" class=\"dataframe\">\n",
       "  <thead>\n",
       "    <tr style=\"text-align: right;\">\n",
       "      <th></th>\n",
       "      <th>business_id</th>\n",
       "      <th>name</th>\n",
       "      <th>address</th>\n",
       "      <th>city</th>\n",
       "      <th>state</th>\n",
       "      <th>zip_code</th>\n",
       "      <th>size</th>\n",
       "    </tr>\n",
       "  </thead>\n",
       "  <tbody>\n",
       "    <tr>\n",
       "      <th>0</th>\n",
       "      <td>1</td>\n",
       "      <td>SOURINI PAINTING INC.</td>\n",
       "      <td>12800 44th St N</td>\n",
       "      <td>Clearwater</td>\n",
       "      <td>FL</td>\n",
       "      <td>33762-4726</td>\n",
       "      <td>11.0</td>\n",
       "    </tr>\n",
       "    <tr>\n",
       "      <th>1</th>\n",
       "      <td>2</td>\n",
       "      <td>WOLFF DOLLA BILL LLC</td>\n",
       "      <td>1905 E 19th Ave</td>\n",
       "      <td>Tampa</td>\n",
       "      <td>FL</td>\n",
       "      <td>33605-2700</td>\n",
       "      <td>8.0</td>\n",
       "    </tr>\n",
       "    <tr>\n",
       "      <th>2</th>\n",
       "      <td>3</td>\n",
       "      <td>COMPREHENSIVE SURGERY CENTER, LLC</td>\n",
       "      <td>1988 GULF TO BAY BLVD, Ste 1</td>\n",
       "      <td>CLEARWATER</td>\n",
       "      <td>FL</td>\n",
       "      <td>33765-3550</td>\n",
       "      <td>8.0</td>\n",
       "    </tr>\n",
       "    <tr>\n",
       "      <th>3</th>\n",
       "      <td>4</td>\n",
       "      <td>FRANK &amp; ADAM APPAREL LLC</td>\n",
       "      <td>13640 Wright Cir</td>\n",
       "      <td>Tampa</td>\n",
       "      <td>FL</td>\n",
       "      <td>33626-3030</td>\n",
       "      <td>12.0</td>\n",
       "    </tr>\n",
       "    <tr>\n",
       "      <th>4</th>\n",
       "      <td>5</td>\n",
       "      <td>MORENO PLUS TRANSPORT INC</td>\n",
       "      <td>8608 Huron Court unite 58</td>\n",
       "      <td>Tampa</td>\n",
       "      <td>FL</td>\n",
       "      <td>33614</td>\n",
       "      <td>8.0</td>\n",
       "    </tr>\n",
       "  </tbody>\n",
       "</table>\n",
       "</div>"
      ],
      "text/plain": [
       "   business_id                               name  \\\n",
       "0            1              SOURINI PAINTING INC.   \n",
       "1            2               WOLFF DOLLA BILL LLC   \n",
       "2            3  COMPREHENSIVE SURGERY CENTER, LLC   \n",
       "3            4           FRANK & ADAM APPAREL LLC   \n",
       "4            5          MORENO PLUS TRANSPORT INC   \n",
       "\n",
       "                        address        city state    zip_code  size  \n",
       "0               12800 44th St N  Clearwater    FL  33762-4726  11.0  \n",
       "1               1905 E 19th Ave       Tampa    FL  33605-2700   8.0  \n",
       "2  1988 GULF TO BAY BLVD, Ste 1  CLEARWATER    FL  33765-3550   8.0  \n",
       "3              13640 Wright Cir       Tampa    FL  33626-3030  12.0  \n",
       "4     8608 Huron Court unite 58       Tampa    FL       33614   8.0  "
      ]
     },
     "execution_count": 6,
     "metadata": {},
     "output_type": "execute_result"
    }
   ],
   "source": [
    "left.head()"
   ]
  },
  {
   "cell_type": "code",
   "execution_count": 7,
   "id": "98d2bcee",
   "metadata": {
    "id": "98d2bcee",
    "outputId": "167d9d3a-ae58-4d3c-e9bf-c71bfac7d5ea"
   },
   "outputs": [
    {
     "data": {
      "text/html": [
       "<div>\n",
       "<style scoped>\n",
       "    .dataframe tbody tr th:only-of-type {\n",
       "        vertical-align: middle;\n",
       "    }\n",
       "\n",
       "    .dataframe tbody tr th {\n",
       "        vertical-align: top;\n",
       "    }\n",
       "\n",
       "    .dataframe thead th {\n",
       "        text-align: right;\n",
       "    }\n",
       "</style>\n",
       "<table border=\"1\" class=\"dataframe\">\n",
       "  <thead>\n",
       "    <tr style=\"text-align: right;\">\n",
       "      <th></th>\n",
       "      <th>entity_id</th>\n",
       "      <th>name</th>\n",
       "      <th>address</th>\n",
       "      <th>city</th>\n",
       "      <th>state</th>\n",
       "      <th>postal_code</th>\n",
       "      <th>categories</th>\n",
       "    </tr>\n",
       "  </thead>\n",
       "  <tbody>\n",
       "    <tr>\n",
       "      <th>0</th>\n",
       "      <td>1</td>\n",
       "      <td>The UPS Store</td>\n",
       "      <td>87 Grasso Plaza Shopping Center</td>\n",
       "      <td>Affton</td>\n",
       "      <td>MO</td>\n",
       "      <td>63123.0</td>\n",
       "      <td>Shipping Centers, Local Services, Notaries, Ma...</td>\n",
       "    </tr>\n",
       "    <tr>\n",
       "      <th>1</th>\n",
       "      <td>2</td>\n",
       "      <td>St Honore Pastries</td>\n",
       "      <td>935 Race St</td>\n",
       "      <td>Philadelphia</td>\n",
       "      <td>PA</td>\n",
       "      <td>19107.0</td>\n",
       "      <td>Restaurants, Food, Bubble Tea, Coffee &amp; Tea, B...</td>\n",
       "    </tr>\n",
       "    <tr>\n",
       "      <th>2</th>\n",
       "      <td>3</td>\n",
       "      <td>Perkiomen Valley Brewery</td>\n",
       "      <td>101 Walnut St</td>\n",
       "      <td>Green Lane</td>\n",
       "      <td>PA</td>\n",
       "      <td>18054.0</td>\n",
       "      <td>Brewpubs, Breweries, Food</td>\n",
       "    </tr>\n",
       "    <tr>\n",
       "      <th>3</th>\n",
       "      <td>4</td>\n",
       "      <td>Sonic Drive-In</td>\n",
       "      <td>615 S Main St</td>\n",
       "      <td>Ashland City</td>\n",
       "      <td>TN</td>\n",
       "      <td>37015.0</td>\n",
       "      <td>Burgers, Fast Food, Sandwiches, Food, Ice Crea...</td>\n",
       "    </tr>\n",
       "    <tr>\n",
       "      <th>4</th>\n",
       "      <td>5</td>\n",
       "      <td>Famous Footwear</td>\n",
       "      <td>8522 Eager Road, Dierbergs Brentwood Point</td>\n",
       "      <td>Brentwood</td>\n",
       "      <td>MO</td>\n",
       "      <td>63144.0</td>\n",
       "      <td>Sporting Goods, Fashion, Shoe Stores, Shopping...</td>\n",
       "    </tr>\n",
       "  </tbody>\n",
       "</table>\n",
       "</div>"
      ],
      "text/plain": [
       "   entity_id                      name  \\\n",
       "0          1             The UPS Store   \n",
       "1          2        St Honore Pastries   \n",
       "2          3  Perkiomen Valley Brewery   \n",
       "3          4            Sonic Drive-In   \n",
       "4          5           Famous Footwear   \n",
       "\n",
       "                                      address          city state  \\\n",
       "0             87 Grasso Plaza Shopping Center        Affton    MO   \n",
       "1                                 935 Race St  Philadelphia    PA   \n",
       "2                               101 Walnut St    Green Lane    PA   \n",
       "3                               615 S Main St  Ashland City    TN   \n",
       "4  8522 Eager Road, Dierbergs Brentwood Point     Brentwood    MO   \n",
       "\n",
       "   postal_code                                         categories  \n",
       "0      63123.0  Shipping Centers, Local Services, Notaries, Ma...  \n",
       "1      19107.0  Restaurants, Food, Bubble Tea, Coffee & Tea, B...  \n",
       "2      18054.0                          Brewpubs, Breweries, Food  \n",
       "3      37015.0  Burgers, Fast Food, Sandwiches, Food, Ice Crea...  \n",
       "4      63144.0  Sporting Goods, Fashion, Shoe Stores, Shopping...  "
      ]
     },
     "execution_count": 7,
     "metadata": {},
     "output_type": "execute_result"
    }
   ],
   "source": [
    "right.head()"
   ]
  },
  {
   "cell_type": "markdown",
   "id": "f681c6ab",
   "metadata": {
    "id": "f681c6ab"
   },
   "source": [
    "## Reformat case"
   ]
  },
  {
   "cell_type": "code",
   "execution_count": 8,
   "id": "153fbf7f",
   "metadata": {
    "id": "153fbf7f",
    "outputId": "f9c099d6-783c-4e9b-9ffa-e8b65a9d7ca5"
   },
   "outputs": [
    {
     "data": {
      "text/plain": [
       "entity_id         0\n",
       "name              0\n",
       "address        2798\n",
       "city              0\n",
       "state             0\n",
       "postal_code      37\n",
       "categories       62\n",
       "dtype: int64"
      ]
     },
     "execution_count": 8,
     "metadata": {},
     "output_type": "execute_result"
    }
   ],
   "source": [
    "right.isnull().sum()"
   ]
  },
  {
   "cell_type": "code",
   "execution_count": 9,
   "id": "a6a91716",
   "metadata": {
    "id": "a6a91716",
    "outputId": "31ba32d9-b81e-4046-8adb-715b094e387d"
   },
   "outputs": [
    {
     "name": "stderr",
     "output_type": "stream",
     "text": [
      "/var/folders/gr/f5m4xwn94f30827t7nnxzvy40000gn/T/ipykernel_86490/823455782.py:1: FutureWarning: The default value of regex will change from True to False in a future version.\n",
      "  right['postal_code'] = right['postal_code'].astype(str).str.replace('.0', '')\n"
     ]
    }
   ],
   "source": [
    "right['postal_code'] = right['postal_code'].astype(str).str.replace('.0', '')\n",
    "left = left.apply(lambda x: x.astype(str).str.lower())\n",
    "right = right.apply(lambda x: x.astype(str).str.lower())"
   ]
  },
  {
   "cell_type": "markdown",
   "id": "2cce7635",
   "metadata": {
    "id": "2cce7635"
   },
   "source": [
    "## EDA"
   ]
  },
  {
   "cell_type": "code",
   "execution_count": 10,
   "id": "39f0597f",
   "metadata": {
    "id": "39f0597f"
   },
   "outputs": [],
   "source": [
    "left['business_id'] = left['business_id'].astype(np.uint8,errors='ignore')\n",
    "right['entity_id'] = right['entity_id'].astype(np.uint8,errors='ignore')"
   ]
  },
  {
   "cell_type": "code",
   "execution_count": 11,
   "id": "d1f098ad",
   "metadata": {
    "id": "d1f098ad"
   },
   "outputs": [],
   "source": [
    "left_count_unique = { 'attribute': ['name','address','city','state','zip_code'],\n",
    "                      'unique_count': [left['name'].nunique(),left['address'].nunique()\n",
    "                    ,left['city'].nunique(), left['state'].nunique()\n",
    "                    , left['zip_code'].nunique()]}"
   ]
  },
  {
   "cell_type": "code",
   "execution_count": 12,
   "id": "e19dafed",
   "metadata": {
    "id": "e19dafed"
   },
   "outputs": [],
   "source": [
    "left_count_unique = pd.DataFrame(left_count_unique)"
   ]
  },
  {
   "cell_type": "code",
   "execution_count": 13,
   "id": "1e580b1b",
   "metadata": {
    "id": "1e580b1b",
    "outputId": "8a99e2f4-62bd-4c36-fe36-18ebbaf19d50"
   },
   "outputs": [
    {
     "data": {
      "text/html": [
       "<div>\n",
       "<style scoped>\n",
       "    .dataframe tbody tr th:only-of-type {\n",
       "        vertical-align: middle;\n",
       "    }\n",
       "\n",
       "    .dataframe tbody tr th {\n",
       "        vertical-align: top;\n",
       "    }\n",
       "\n",
       "    .dataframe thead th {\n",
       "        text-align: right;\n",
       "    }\n",
       "</style>\n",
       "<table border=\"1\" class=\"dataframe\">\n",
       "  <thead>\n",
       "    <tr style=\"text-align: right;\">\n",
       "      <th></th>\n",
       "      <th>attribute</th>\n",
       "      <th>unique_count</th>\n",
       "    </tr>\n",
       "  </thead>\n",
       "  <tbody>\n",
       "    <tr>\n",
       "      <th>0</th>\n",
       "      <td>name</td>\n",
       "      <td>86341</td>\n",
       "    </tr>\n",
       "    <tr>\n",
       "      <th>1</th>\n",
       "      <td>address</td>\n",
       "      <td>80913</td>\n",
       "    </tr>\n",
       "    <tr>\n",
       "      <th>2</th>\n",
       "      <td>city</td>\n",
       "      <td>44</td>\n",
       "    </tr>\n",
       "    <tr>\n",
       "      <th>3</th>\n",
       "      <td>state</td>\n",
       "      <td>5</td>\n",
       "    </tr>\n",
       "    <tr>\n",
       "      <th>4</th>\n",
       "      <td>zip_code</td>\n",
       "      <td>40064</td>\n",
       "    </tr>\n",
       "  </tbody>\n",
       "</table>\n",
       "</div>"
      ],
      "text/plain": [
       "  attribute  unique_count\n",
       "0      name         86341\n",
       "1   address         80913\n",
       "2      city            44\n",
       "3     state             5\n",
       "4  zip_code         40064"
      ]
     },
     "execution_count": 13,
     "metadata": {},
     "output_type": "execute_result"
    }
   ],
   "source": [
    "left_count_unique"
   ]
  },
  {
   "cell_type": "code",
   "execution_count": 14,
   "id": "d2aad39f",
   "metadata": {
    "id": "d2aad39f"
   },
   "outputs": [],
   "source": [
    "left_count_unique = left_count_unique.sort_values('unique_count',ascending=False)"
   ]
  },
  {
   "cell_type": "code",
   "execution_count": 15,
   "id": "37cd9f01",
   "metadata": {
    "id": "37cd9f01",
    "outputId": "896d494c-45b6-4340-b965-b2b354074923"
   },
   "outputs": [
    {
     "data": {
      "image/png": "[encoded data removed]",
      "text/plain": [
       "<Figure size 640x480 with 1 Axes>"
      ]
     },
     "metadata": {},
     "output_type": "display_data"
    }
   ],
   "source": [
    "ax = left_count_unique.plot.bar(x='attribute', y='unique_count', rot=0)"
   ]
  },
  {
   "cell_type": "code",
   "execution_count": 16,
   "id": "75fc76e5",
   "metadata": {
    "id": "75fc76e5"
   },
   "outputs": [],
   "source": [
    "right_count_unique = {'attribute': ['name','address','city','state','postal_code'],\n",
    "                      'unique_count': [right['name'].nunique(),right['address'].nunique()\n",
    "                    ,right['city'].nunique(), right['state'].nunique()\n",
    "                    , right['postal_code'].nunique()]}"
   ]
  },
  {
   "cell_type": "code",
   "execution_count": 17,
   "id": "56d15cbf",
   "metadata": {
    "id": "56d15cbf",
    "outputId": "55d1103f-17fb-429d-9f18-a439ff964728"
   },
   "outputs": [
    {
     "data": {
      "text/html": [
       "<div>\n",
       "<style scoped>\n",
       "    .dataframe tbody tr th:only-of-type {\n",
       "        vertical-align: middle;\n",
       "    }\n",
       "\n",
       "    .dataframe tbody tr th {\n",
       "        vertical-align: top;\n",
       "    }\n",
       "\n",
       "    .dataframe thead th {\n",
       "        text-align: right;\n",
       "    }\n",
       "</style>\n",
       "<table border=\"1\" class=\"dataframe\">\n",
       "  <thead>\n",
       "    <tr style=\"text-align: right;\">\n",
       "      <th></th>\n",
       "      <th>attribute</th>\n",
       "      <th>unique_count</th>\n",
       "    </tr>\n",
       "  </thead>\n",
       "  <tbody>\n",
       "    <tr>\n",
       "      <th>1</th>\n",
       "      <td>address</td>\n",
       "      <td>77114</td>\n",
       "    </tr>\n",
       "    <tr>\n",
       "      <th>0</th>\n",
       "      <td>name</td>\n",
       "      <td>71975</td>\n",
       "    </tr>\n",
       "    <tr>\n",
       "      <th>2</th>\n",
       "      <td>city</td>\n",
       "      <td>794</td>\n",
       "    </tr>\n",
       "    <tr>\n",
       "      <th>4</th>\n",
       "      <td>postal_code</td>\n",
       "      <td>615</td>\n",
       "    </tr>\n",
       "    <tr>\n",
       "      <th>3</th>\n",
       "      <td>state</td>\n",
       "      <td>5</td>\n",
       "    </tr>\n",
       "  </tbody>\n",
       "</table>\n",
       "</div>"
      ],
      "text/plain": [
       "     attribute  unique_count\n",
       "1      address         77114\n",
       "0         name         71975\n",
       "2         city           794\n",
       "4  postal_code           615\n",
       "3        state             5"
      ]
     },
     "execution_count": 17,
     "metadata": {},
     "output_type": "execute_result"
    }
   ],
   "source": [
    "right_count_unique = pd.DataFrame(right_count_unique)\n",
    "right_count_unique = right_count_unique.sort_values('unique_count',ascending=False)\n",
    "right_count_unique"
   ]
  },
  {
   "cell_type": "code",
   "execution_count": 18,
   "id": "4337874c",
   "metadata": {
    "id": "4337874c",
    "outputId": "89475c00-7493-4bd3-d9d3-db761cca15e9"
   },
   "outputs": [
    {
     "data": {
      "image/png": "[encoded data removed]",
      "text/plain": [
       "<Figure size 640x480 with 1 Axes>"
      ]
     },
     "metadata": {},
     "output_type": "display_data"
    }
   ],
   "source": [
    "ax = right_count_unique.plot.bar(x='attribute', y='unique_count', rot=0)"
   ]
  },
  {
   "cell_type": "markdown",
   "id": "24584f98",
   "metadata": {
    "id": "24584f98"
   },
   "source": [
    "#### Name similarity"
   ]
  },
  {
   "cell_type": "code",
   "execution_count": 19,
   "id": "642d8425",
   "metadata": {
    "id": "642d8425",
    "outputId": "5393f73f-cffc-43ba-abfd-3e2face243e3"
   },
   "outputs": [
    {
     "data": {
      "text/html": [
       "<div>\n",
       "<style scoped>\n",
       "    .dataframe tbody tr th:only-of-type {\n",
       "        vertical-align: middle;\n",
       "    }\n",
       "\n",
       "    .dataframe tbody tr th {\n",
       "        vertical-align: top;\n",
       "    }\n",
       "\n",
       "    .dataframe thead th {\n",
       "        text-align: right;\n",
       "    }\n",
       "</style>\n",
       "<table border=\"1\" class=\"dataframe\">\n",
       "  <thead>\n",
       "    <tr style=\"text-align: right;\">\n",
       "      <th></th>\n",
       "      <th>name</th>\n",
       "      <th>_merge</th>\n",
       "    </tr>\n",
       "  </thead>\n",
       "  <tbody>\n",
       "    <tr>\n",
       "      <th>61</th>\n",
       "      <td>nutrition solutions</td>\n",
       "      <td>both</td>\n",
       "    </tr>\n",
       "    <tr>\n",
       "      <th>62</th>\n",
       "      <td>nutrition solutions</td>\n",
       "      <td>both</td>\n",
       "    </tr>\n",
       "    <tr>\n",
       "      <th>73</th>\n",
       "      <td>velocity air conditioning</td>\n",
       "      <td>both</td>\n",
       "    </tr>\n",
       "    <tr>\n",
       "      <th>243</th>\n",
       "      <td>mary jo's performing arts academy</td>\n",
       "      <td>both</td>\n",
       "    </tr>\n",
       "    <tr>\n",
       "      <th>322</th>\n",
       "      <td>beryl project engineering</td>\n",
       "      <td>both</td>\n",
       "    </tr>\n",
       "    <tr>\n",
       "      <th>...</th>\n",
       "      <td>...</td>\n",
       "      <td>...</td>\n",
       "    </tr>\n",
       "    <tr>\n",
       "      <th>98801</th>\n",
       "      <td>gyro plus</td>\n",
       "      <td>both</td>\n",
       "    </tr>\n",
       "    <tr>\n",
       "      <th>98893</th>\n",
       "      <td>gyro star</td>\n",
       "      <td>both</td>\n",
       "    </tr>\n",
       "    <tr>\n",
       "      <th>98918</th>\n",
       "      <td>lee house</td>\n",
       "      <td>both</td>\n",
       "    </tr>\n",
       "    <tr>\n",
       "      <th>98927</th>\n",
       "      <td>american legion post 82</td>\n",
       "      <td>both</td>\n",
       "    </tr>\n",
       "    <tr>\n",
       "      <th>99105</th>\n",
       "      <td>gates cleaners</td>\n",
       "      <td>both</td>\n",
       "    </tr>\n",
       "  </tbody>\n",
       "</table>\n",
       "<p>1787 rows × 2 columns</p>\n",
       "</div>"
      ],
      "text/plain": [
       "                                    name _merge\n",
       "61                   nutrition solutions   both\n",
       "62                   nutrition solutions   both\n",
       "73             velocity air conditioning   both\n",
       "243    mary jo's performing arts academy   both\n",
       "322            beryl project engineering   both\n",
       "...                                  ...    ...\n",
       "98801                          gyro plus   both\n",
       "98893                          gyro star   both\n",
       "98918                          lee house   both\n",
       "98927            american legion post 82   both\n",
       "99105                     gates cleaners   both\n",
       "\n",
       "[1787 rows x 2 columns]"
      ]
     },
     "execution_count": 19,
     "metadata": {},
     "output_type": "execute_result"
    }
   ],
   "source": [
    "l_name = left['name']\n",
    "r_name = right['name']\n",
    "merge = pd.merge(l_name, r_name, on='name', how='outer', indicator=True)\n",
    "merge[merge['_merge'] == 'both']"
   ]
  },
  {
   "cell_type": "code",
   "execution_count": 20,
   "id": "2b3dad37",
   "metadata": {
    "id": "2b3dad37",
    "outputId": "a5911703-4cef-44a2-d53f-9a65c4aa10f5"
   },
   "outputs": [
    {
     "data": {
      "text/plain": [
       "Text(0.3, -0.25, '98.6%')"
      ]
     },
     "execution_count": 20,
     "metadata": {},
     "output_type": "execute_result"
    },
    {
     "data": {
      "image/png": "[encoded data removed]",
      "text/plain": [
       "<Figure size 640x480 with 1 Axes>"
      ]
     },
     "metadata": {},
     "output_type": "display_data"
    }
   ],
   "source": [
    "l_name = set(left['name'])\n",
    "r_name = set(right['name'])\n",
    "venn2([l_name, r_name], set_labels=('left', 'right'))\n",
    "ab = len(l_name & r_name) / len(l_name) * 100\n",
    "a_not_b = len(l_name - r_name) / len(l_name) * 100\n",
    "b_not_a = len(r_name - l_name) / len(r_name) * 100\n",
    "plt.text(-0.2, 0.2, f\"{ab:.1f}%\", fontsize=10)\n",
    "plt.text(-0.6, -0.25, f\"{a_not_b:.1f}%\", fontsize=10)\n",
    "plt.text(0.3, -0.25, f\"{b_not_a:.1f}%\", fontsize=10)"
   ]
  },
  {
   "cell_type": "markdown",
   "id": "9c8007e4",
   "metadata": {
    "id": "9c8007e4"
   },
   "source": [
    "#### Address similarity"
   ]
  },
  {
   "cell_type": "code",
   "execution_count": 21,
   "id": "9411b518",
   "metadata": {
    "id": "9411b518",
    "outputId": "0c1a8dac-bf72-4171-b146-afeb0b79f222"
   },
   "outputs": [
    {
     "data": {
      "text/plain": [
       "Text(0.3, -0.25, '87.0%')"
      ]
     },
     "execution_count": 21,
     "metadata": {},
     "output_type": "execute_result"
    },
    {
     "data": {
      "image/png": "[encoded data removed]",
      "text/plain": [
       "<Figure size 640x480 with 1 Axes>"
      ]
     },
     "metadata": {},
     "output_type": "display_data"
    }
   ],
   "source": [
    "l_add = set(left['address'])\n",
    "r_add = set(right['address'])\n",
    "venn2([l_add, r_add], set_labels=('left', 'right'))\n",
    "ab = len(l_add & r_add) / len(l_add) * 100\n",
    "a_not_b = len(l_add - r_add) / len(l_add) * 100\n",
    "b_not_a = len(r_add - l_add) / len(r_add) * 100\n",
    "plt.text(-0.2, 0.2, f\"{ab:.1f}%\", fontsize=10)\n",
    "plt.text(-0.6, -0.25, f\"{a_not_b:.1f}%\", fontsize=10)\n",
    "plt.text(0.3, -0.25, f\"{b_not_a:.1f}%\", fontsize=10)"
   ]
  },
  {
   "cell_type": "markdown",
   "id": "a37c6f98",
   "metadata": {
    "id": "a37c6f98"
   },
   "source": [
    "#### State similarity"
   ]
  },
  {
   "cell_type": "code",
   "execution_count": 22,
   "id": "c8dd52d6",
   "metadata": {
    "id": "c8dd52d6",
    "outputId": "21a272b5-165e-4996-9616-5678bdee0130"
   },
   "outputs": [
    {
     "data": {
      "text/plain": [
       "<matplotlib_venn._common.VennDiagram at 0x7f91cb6f3eb0>"
      ]
     },
     "execution_count": 22,
     "metadata": {},
     "output_type": "execute_result"
    },
    {
     "data": {
      "image/png": "[encoded data removed]",
      "text/plain": [
       "<Figure size 640x480 with 1 Axes>"
      ]
     },
     "metadata": {},
     "output_type": "display_data"
    }
   ],
   "source": [
    "l_s = set(left['state'])\n",
    "r_s = set(right['state'])\n",
    "venn2([l_s, r_s], set_labels=('left', 'right'))"
   ]
  },
  {
   "cell_type": "code",
   "execution_count": 23,
   "id": "d8b34c80",
   "metadata": {
    "id": "d8b34c80"
   },
   "outputs": [],
   "source": [
    "##left['zip_code'] = left['zip_code'].str.split('-').str[0]"
   ]
  },
  {
   "cell_type": "markdown",
   "id": "eeaa6dae",
   "metadata": {
    "id": "eeaa6dae"
   },
   "source": [
    "#### City similarity"
   ]
  },
  {
   "cell_type": "code",
   "execution_count": 24,
   "id": "d4221198",
   "metadata": {
    "id": "d4221198",
    "outputId": "21d7dd9d-fe4a-4aa6-e99a-27df2e585d5b"
   },
   "outputs": [
    {
     "data": {
      "text/plain": [
       "<matplotlib_venn._common.VennDiagram at 0x7f91bca048e0>"
      ]
     },
     "execution_count": 24,
     "metadata": {},
     "output_type": "execute_result"
    },
    {
     "data": {
      "image/png": "[encoded data removed]",
      "text/plain": [
       "<Figure size 640x480 with 1 Axes>"
      ]
     },
     "metadata": {},
     "output_type": "display_data"
    }
   ],
   "source": [
    "l_c = set(left['city'])\n",
    "r_c = set(right['city'])\n",
    "venn2([l_c, r_c], set_labels=('left', 'right'))"
   ]
  },
  {
   "cell_type": "code",
   "execution_count": 25,
   "id": "4652e6dc",
   "metadata": {
    "id": "4652e6dc",
    "outputId": "b417af30-6257-452e-c017-618542fb85a2"
   },
   "outputs": [
    {
     "data": {
      "text/plain": [
       "<matplotlib_venn._common.VennDiagram at 0x7f9169715ee0>"
      ]
     },
     "execution_count": 25,
     "metadata": {},
     "output_type": "execute_result"
    },
    {
     "data": {
      "image/png": "[encoded data removed]",
      "text/plain": [
       "<Figure size 640x480 with 1 Axes>"
      ]
     },
     "metadata": {},
     "output_type": "display_data"
    }
   ],
   "source": [
    "l_zipcode = set(left['zip_code'])\n",
    "r_postalcode = set(right['postal_code'])\n",
    "venn2([l_zipcode, r_postalcode], set_labels=('left', 'right'))"
   ]
  },
  {
   "cell_type": "code",
   "execution_count": 26,
   "id": "1abf68db",
   "metadata": {
    "id": "1abf68db",
    "outputId": "e3dea467-6e2e-43e0-dab6-7697fb5f5313"
   },
   "outputs": [
    {
     "data": {
      "text/plain": [
       "0        33762-4726\n",
       "1        33605-2700\n",
       "2        33765-3550\n",
       "3        33626-3030\n",
       "4             33614\n",
       "            ...    \n",
       "98504    37209-2135\n",
       "98505         37207\n",
       "98506    37206-3907\n",
       "98507    37207-1236\n",
       "98508    37207-4534\n",
       "Name: zip_code, Length: 98509, dtype: object"
      ]
     },
     "execution_count": 26,
     "metadata": {},
     "output_type": "execute_result"
    }
   ],
   "source": [
    "left['zip_code']"
   ]
  },
  {
   "cell_type": "code",
   "execution_count": 27,
   "id": "a77955ab",
   "metadata": {
    "id": "a77955ab"
   },
   "outputs": [],
   "source": [
    "name_similar = len(l_name & r_name)\n",
    "address_similar = len(l_add & r_add)\n",
    "state_similar = len(l_s & r_s)\n",
    "city_similar = len(l_c & r_c)\n",
    "postalcode_similar = len(l_zipcode & r_postalcode)"
   ]
  },
  {
   "cell_type": "code",
   "execution_count": 28,
   "id": "0e7fa14e",
   "metadata": {
    "id": "0e7fa14e"
   },
   "outputs": [],
   "source": [
    "similarity_count = {'attribute_similar': ['name','address','state','city','postal_code'],\n",
    "                      'similarity_count': [len(l_name & r_name),\n",
    "                                           len(l_add & r_add),\n",
    "                                           len(l_s & r_s),\n",
    "                                           len(l_c & r_c),\n",
    "                                           len(l_zipcode & r_postalcode)]}"
   ]
  },
  {
   "cell_type": "code",
   "execution_count": 29,
   "id": "8cb8ee7b",
   "metadata": {
    "id": "8cb8ee7b"
   },
   "outputs": [],
   "source": [
    "similarity_pct = {'attribute_similar': ['name','address','state','city','postal_code'],\n",
    "                      'similarity_pct': [(len(l_name & r_name)/len(l_name))*100,\n",
    "                                           (len(l_add & r_add)/len(l_add))*100,\n",
    "                                           (len(l_s & r_s)/len(l_s))*100,\n",
    "                                           (len(l_c & r_c)/len(l_c))*100,\n",
    "                                           (len(l_zipcode & r_postalcode)/len(l_zipcode))*100]}"
   ]
  },
  {
   "cell_type": "code",
   "execution_count": 30,
   "id": "aedeea44",
   "metadata": {
    "id": "aedeea44",
    "outputId": "08ef18da-a4c6-47d3-d88c-fd9def8ede6b"
   },
   "outputs": [
    {
     "data": {
      "text/html": [
       "<div>\n",
       "<style scoped>\n",
       "    .dataframe tbody tr th:only-of-type {\n",
       "        vertical-align: middle;\n",
       "    }\n",
       "\n",
       "    .dataframe tbody tr th {\n",
       "        vertical-align: top;\n",
       "    }\n",
       "\n",
       "    .dataframe thead th {\n",
       "        text-align: right;\n",
       "    }\n",
       "</style>\n",
       "<table border=\"1\" class=\"dataframe\">\n",
       "  <thead>\n",
       "    <tr style=\"text-align: right;\">\n",
       "      <th></th>\n",
       "      <th>attribute_similar</th>\n",
       "      <th>similarity_count</th>\n",
       "    </tr>\n",
       "  </thead>\n",
       "  <tbody>\n",
       "    <tr>\n",
       "      <th>1</th>\n",
       "      <td>address</td>\n",
       "      <td>10006</td>\n",
       "    </tr>\n",
       "    <tr>\n",
       "      <th>0</th>\n",
       "      <td>name</td>\n",
       "      <td>982</td>\n",
       "    </tr>\n",
       "    <tr>\n",
       "      <th>4</th>\n",
       "      <td>postal_code</td>\n",
       "      <td>228</td>\n",
       "    </tr>\n",
       "    <tr>\n",
       "      <th>3</th>\n",
       "      <td>city</td>\n",
       "      <td>44</td>\n",
       "    </tr>\n",
       "    <tr>\n",
       "      <th>2</th>\n",
       "      <td>state</td>\n",
       "      <td>5</td>\n",
       "    </tr>\n",
       "  </tbody>\n",
       "</table>\n",
       "</div>"
      ],
      "text/plain": [
       "  attribute_similar  similarity_count\n",
       "1           address             10006\n",
       "0              name               982\n",
       "4       postal_code               228\n",
       "3              city                44\n",
       "2             state                 5"
      ]
     },
     "execution_count": 30,
     "metadata": {},
     "output_type": "execute_result"
    }
   ],
   "source": [
    "similarity_count = pd.DataFrame(similarity_count)\n",
    "similarity_count = similarity_count.sort_values('similarity_count',ascending=False)\n",
    "similarity_count"
   ]
  },
  {
   "cell_type": "code",
   "execution_count": 31,
   "id": "a7869ad9",
   "metadata": {
    "id": "a7869ad9",
    "outputId": "bfa3220f-24cd-4c1d-ab93-ef0efa279b29"
   },
   "outputs": [
    {
     "data": {
      "text/html": [
       "<div>\n",
       "<style scoped>\n",
       "    .dataframe tbody tr th:only-of-type {\n",
       "        vertical-align: middle;\n",
       "    }\n",
       "\n",
       "    .dataframe tbody tr th {\n",
       "        vertical-align: top;\n",
       "    }\n",
       "\n",
       "    .dataframe thead th {\n",
       "        text-align: right;\n",
       "    }\n",
       "</style>\n",
       "<table border=\"1\" class=\"dataframe\">\n",
       "  <thead>\n",
       "    <tr style=\"text-align: right;\">\n",
       "      <th></th>\n",
       "      <th>attribute_similar</th>\n",
       "      <th>similarity_pct</th>\n",
       "    </tr>\n",
       "  </thead>\n",
       "  <tbody>\n",
       "    <tr>\n",
       "      <th>2</th>\n",
       "      <td>state</td>\n",
       "      <td>100.000000</td>\n",
       "    </tr>\n",
       "    <tr>\n",
       "      <th>3</th>\n",
       "      <td>city</td>\n",
       "      <td>100.000000</td>\n",
       "    </tr>\n",
       "    <tr>\n",
       "      <th>1</th>\n",
       "      <td>address</td>\n",
       "      <td>12.366369</td>\n",
       "    </tr>\n",
       "    <tr>\n",
       "      <th>0</th>\n",
       "      <td>name</td>\n",
       "      <td>1.137351</td>\n",
       "    </tr>\n",
       "    <tr>\n",
       "      <th>4</th>\n",
       "      <td>postal_code</td>\n",
       "      <td>0.569089</td>\n",
       "    </tr>\n",
       "  </tbody>\n",
       "</table>\n",
       "</div>"
      ],
      "text/plain": [
       "  attribute_similar  similarity_pct\n",
       "2             state      100.000000\n",
       "3              city      100.000000\n",
       "1           address       12.366369\n",
       "0              name        1.137351\n",
       "4       postal_code        0.569089"
      ]
     },
     "execution_count": 31,
     "metadata": {},
     "output_type": "execute_result"
    }
   ],
   "source": [
    "similarity_pct = pd.DataFrame(similarity_pct)\n",
    "similarity_pct = similarity_pct.sort_values('similarity_pct',ascending=False)\n",
    "similarity_pct"
   ]
  },
  {
   "cell_type": "code",
   "execution_count": 32,
   "id": "abe5cb1d",
   "metadata": {
    "id": "abe5cb1d",
    "outputId": "f227eb22-1283-4972-8789-6e5d4b16d816"
   },
   "outputs": [
    {
     "data": {
      "image/png": "[encoded data removed]",
      "text/plain": [
       "<Figure size 640x480 with 1 Axes>"
      ]
     },
     "metadata": {},
     "output_type": "display_data"
    }
   ],
   "source": [
    "ax = similarity_count.plot.bar(x='attribute_similar', y='similarity_count', rot=0)"
   ]
  },
  {
   "cell_type": "code",
   "execution_count": 33,
   "id": "e55e6023",
   "metadata": {
    "id": "e55e6023",
    "outputId": "385c987d-eae2-497f-bd47-9f4de6d6236d"
   },
   "outputs": [
    {
     "data": {
      "image/png": "[encoded data removed]",
      "text/plain": [
       "<Figure size 640x480 with 1 Axes>"
      ]
     },
     "metadata": {},
     "output_type": "display_data"
    }
   ],
   "source": [
    "ax = similarity_pct.plot.bar(x='attribute_similar', y='similarity_pct', rot=0)"
   ]
  },
  {
   "cell_type": "code",
   "execution_count": 34,
   "id": "216b8cec",
   "metadata": {
    "id": "216b8cec"
   },
   "outputs": [],
   "source": [
    "#right = right[['entity_id','combine']]\n",
    "#left = left[['business_id','combine']]z"
   ]
  },
  {
   "cell_type": "code",
   "execution_count": 35,
   "id": "176419b8",
   "metadata": {
    "id": "176419b8"
   },
   "outputs": [],
   "source": [
    "#left_tokens = [set(word.lower().split()) for word in left['name']]\n",
    "#right_tokens = [set(word.lower().split()) for word in right['name']]"
   ]
  },
  {
   "cell_type": "code",
   "execution_count": 36,
   "id": "d471c90c",
   "metadata": {
    "id": "d471c90c",
    "outputId": "dd91e720-90f6-47c2-882d-f3eb45cf2a77"
   },
   "outputs": [
    {
     "data": {
      "text/html": [
       "<div>\n",
       "<style scoped>\n",
       "    .dataframe tbody tr th:only-of-type {\n",
       "        vertical-align: middle;\n",
       "    }\n",
       "\n",
       "    .dataframe tbody tr th {\n",
       "        vertical-align: top;\n",
       "    }\n",
       "\n",
       "    .dataframe thead th {\n",
       "        text-align: right;\n",
       "    }\n",
       "</style>\n",
       "<table border=\"1\" class=\"dataframe\">\n",
       "  <thead>\n",
       "    <tr style=\"text-align: right;\">\n",
       "      <th></th>\n",
       "      <th>entity_id</th>\n",
       "      <th>name</th>\n",
       "      <th>address</th>\n",
       "      <th>city</th>\n",
       "      <th>state</th>\n",
       "      <th>postal_code</th>\n",
       "      <th>categories</th>\n",
       "      <th>combine</th>\n",
       "    </tr>\n",
       "  </thead>\n",
       "  <tbody>\n",
       "    <tr>\n",
       "      <th>0</th>\n",
       "      <td>1</td>\n",
       "      <td>the ups store</td>\n",
       "      <td>87 grasso plaza shopping center</td>\n",
       "      <td>affton</td>\n",
       "      <td>mo</td>\n",
       "      <td>63123</td>\n",
       "      <td>shipping centers, local services, notaries, ma...</td>\n",
       "      <td>the ups store87 grasso plaza shopping centeraf...</td>\n",
       "    </tr>\n",
       "    <tr>\n",
       "      <th>1</th>\n",
       "      <td>2</td>\n",
       "      <td>st honore pastries</td>\n",
       "      <td>935 race st</td>\n",
       "      <td>philadelphia</td>\n",
       "      <td>pa</td>\n",
       "      <td>197</td>\n",
       "      <td>restaurants, food, bubble tea, coffee &amp; tea, b...</td>\n",
       "      <td>st honore pastries935 race stphiladelphiapa197</td>\n",
       "    </tr>\n",
       "    <tr>\n",
       "      <th>2</th>\n",
       "      <td>3</td>\n",
       "      <td>perkiomen valley brewery</td>\n",
       "      <td>101 walnut st</td>\n",
       "      <td>green lane</td>\n",
       "      <td>pa</td>\n",
       "      <td>154</td>\n",
       "      <td>brewpubs, breweries, food</td>\n",
       "      <td>perkiomen valley brewery101 walnut stgreen lan...</td>\n",
       "    </tr>\n",
       "    <tr>\n",
       "      <th>3</th>\n",
       "      <td>4</td>\n",
       "      <td>sonic drive-in</td>\n",
       "      <td>615 s main st</td>\n",
       "      <td>ashland city</td>\n",
       "      <td>tn</td>\n",
       "      <td>315</td>\n",
       "      <td>burgers, fast food, sandwiches, food, ice crea...</td>\n",
       "      <td>sonic drive-in615 s main stashland citytn315</td>\n",
       "    </tr>\n",
       "    <tr>\n",
       "      <th>4</th>\n",
       "      <td>5</td>\n",
       "      <td>famous footwear</td>\n",
       "      <td>8522 eager road, dierbergs brentwood point</td>\n",
       "      <td>brentwood</td>\n",
       "      <td>mo</td>\n",
       "      <td>63144</td>\n",
       "      <td>sporting goods, fashion, shoe stores, shopping...</td>\n",
       "      <td>famous footwear8522 eager road, dierbergs bren...</td>\n",
       "    </tr>\n",
       "    <tr>\n",
       "      <th>...</th>\n",
       "      <td>...</td>\n",
       "      <td>...</td>\n",
       "      <td>...</td>\n",
       "      <td>...</td>\n",
       "      <td>...</td>\n",
       "      <td>...</td>\n",
       "      <td>...</td>\n",
       "      <td>...</td>\n",
       "    </tr>\n",
       "    <tr>\n",
       "      <th>94580</th>\n",
       "      <td>117</td>\n",
       "      <td>adelita taqueria &amp; restaurant</td>\n",
       "      <td>1108 s 9th st</td>\n",
       "      <td>philadelphia</td>\n",
       "      <td>pa</td>\n",
       "      <td>19147</td>\n",
       "      <td>restaurants, mexican</td>\n",
       "      <td>adelita taqueria &amp; restaurant1108 s 9th stphil...</td>\n",
       "    </tr>\n",
       "    <tr>\n",
       "      <th>94581</th>\n",
       "      <td>118</td>\n",
       "      <td>inspcenter/thai clinical massage</td>\n",
       "      <td>2625 n meridian st, unit 50</td>\n",
       "      <td>indianapolis</td>\n",
       "      <td>in</td>\n",
       "      <td>468</td>\n",
       "      <td>massage therapy, rolfing, beauty &amp; spas, refle...</td>\n",
       "      <td>inspcenter/thai clinical massage2625 n meridia...</td>\n",
       "    </tr>\n",
       "    <tr>\n",
       "      <th>94582</th>\n",
       "      <td>119</td>\n",
       "      <td>wild birds unlimited</td>\n",
       "      <td>2813 bransford ave</td>\n",
       "      <td>nashville</td>\n",
       "      <td>tn</td>\n",
       "      <td>374</td>\n",
       "      <td>pets, nurseries &amp; gardening, pet stores, hobby...</td>\n",
       "      <td>wild birds unlimited2813 bransford avenashvill...</td>\n",
       "    </tr>\n",
       "    <tr>\n",
       "      <th>94583</th>\n",
       "      <td>120</td>\n",
       "      <td>claire's boutique</td>\n",
       "      <td>6020 e 82nd st, ste 46</td>\n",
       "      <td>indianapolis</td>\n",
       "      <td>in</td>\n",
       "      <td>462</td>\n",
       "      <td>shopping, jewelry, piercing, toy stores, beaut...</td>\n",
       "      <td>claire's boutique6020 e 82nd st, ste 46indiana...</td>\n",
       "    </tr>\n",
       "    <tr>\n",
       "      <th>94584</th>\n",
       "      <td>121</td>\n",
       "      <td>sic ink</td>\n",
       "      <td>238 apollo beach blvd</td>\n",
       "      <td>apollo beach</td>\n",
       "      <td>fl</td>\n",
       "      <td>33572</td>\n",
       "      <td>beauty &amp; spas, permanent makeup, piercing, tattoo</td>\n",
       "      <td>sic ink238 apollo beach blvdapollo beachfl33572</td>\n",
       "    </tr>\n",
       "  </tbody>\n",
       "</table>\n",
       "<p>94585 rows × 8 columns</p>\n",
       "</div>"
      ],
      "text/plain": [
       "       entity_id                              name  \\\n",
       "0              1                     the ups store   \n",
       "1              2                st honore pastries   \n",
       "2              3          perkiomen valley brewery   \n",
       "3              4                    sonic drive-in   \n",
       "4              5                   famous footwear   \n",
       "...          ...                               ...   \n",
       "94580        117     adelita taqueria & restaurant   \n",
       "94581        118  inspcenter/thai clinical massage   \n",
       "94582        119              wild birds unlimited   \n",
       "94583        120                 claire's boutique   \n",
       "94584        121                           sic ink   \n",
       "\n",
       "                                          address          city state  \\\n",
       "0                 87 grasso plaza shopping center        affton    mo   \n",
       "1                                     935 race st  philadelphia    pa   \n",
       "2                                   101 walnut st    green lane    pa   \n",
       "3                                   615 s main st  ashland city    tn   \n",
       "4      8522 eager road, dierbergs brentwood point     brentwood    mo   \n",
       "...                                           ...           ...   ...   \n",
       "94580                               1108 s 9th st  philadelphia    pa   \n",
       "94581                 2625 n meridian st, unit 50  indianapolis    in   \n",
       "94582                          2813 bransford ave     nashville    tn   \n",
       "94583                      6020 e 82nd st, ste 46  indianapolis    in   \n",
       "94584                       238 apollo beach blvd  apollo beach    fl   \n",
       "\n",
       "      postal_code                                         categories  \\\n",
       "0           63123  shipping centers, local services, notaries, ma...   \n",
       "1             197  restaurants, food, bubble tea, coffee & tea, b...   \n",
       "2             154                          brewpubs, breweries, food   \n",
       "3             315  burgers, fast food, sandwiches, food, ice crea...   \n",
       "4           63144  sporting goods, fashion, shoe stores, shopping...   \n",
       "...           ...                                                ...   \n",
       "94580       19147                               restaurants, mexican   \n",
       "94581         468  massage therapy, rolfing, beauty & spas, refle...   \n",
       "94582         374  pets, nurseries & gardening, pet stores, hobby...   \n",
       "94583         462  shopping, jewelry, piercing, toy stores, beaut...   \n",
       "94584       33572  beauty & spas, permanent makeup, piercing, tattoo   \n",
       "\n",
       "                                                 combine  \n",
       "0      the ups store87 grasso plaza shopping centeraf...  \n",
       "1         st honore pastries935 race stphiladelphiapa197  \n",
       "2      perkiomen valley brewery101 walnut stgreen lan...  \n",
       "3           sonic drive-in615 s main stashland citytn315  \n",
       "4      famous footwear8522 eager road, dierbergs bren...  \n",
       "...                                                  ...  \n",
       "94580  adelita taqueria & restaurant1108 s 9th stphil...  \n",
       "94581  inspcenter/thai clinical massage2625 n meridia...  \n",
       "94582  wild birds unlimited2813 bransford avenashvill...  \n",
       "94583  claire's boutique6020 e 82nd st, ste 46indiana...  \n",
       "94584    sic ink238 apollo beach blvdapollo beachfl33572  \n",
       "\n",
       "[94585 rows x 8 columns]"
      ]
     },
     "execution_count": 36,
     "metadata": {},
     "output_type": "execute_result"
    }
   ],
   "source": [
    "right['combine'] = right['name'] + right['address']+ right['city']+ right['state']+ right['postal_code']\n",
    "right"
   ]
  },
  {
   "cell_type": "code",
   "execution_count": 37,
   "id": "03ce24df",
   "metadata": {
    "id": "03ce24df",
    "outputId": "c3b3b211-377c-40a2-8462-52fb731a1316"
   },
   "outputs": [
    {
     "data": {
      "text/html": [
       "<div>\n",
       "<style scoped>\n",
       "    .dataframe tbody tr th:only-of-type {\n",
       "        vertical-align: middle;\n",
       "    }\n",
       "\n",
       "    .dataframe tbody tr th {\n",
       "        vertical-align: top;\n",
       "    }\n",
       "\n",
       "    .dataframe thead th {\n",
       "        text-align: right;\n",
       "    }\n",
       "</style>\n",
       "<table border=\"1\" class=\"dataframe\">\n",
       "  <thead>\n",
       "    <tr style=\"text-align: right;\">\n",
       "      <th></th>\n",
       "      <th>business_id</th>\n",
       "      <th>name</th>\n",
       "      <th>address</th>\n",
       "      <th>city</th>\n",
       "      <th>state</th>\n",
       "      <th>zip_code</th>\n",
       "      <th>combine</th>\n",
       "    </tr>\n",
       "  </thead>\n",
       "  <tbody>\n",
       "    <tr>\n",
       "      <th>0</th>\n",
       "      <td>1</td>\n",
       "      <td>sourini painting inc.</td>\n",
       "      <td>12800 44th st n</td>\n",
       "      <td>clearwater</td>\n",
       "      <td>fl</td>\n",
       "      <td>33762-4726</td>\n",
       "      <td>sourini painting inc.12800 44th st nclearwater...</td>\n",
       "    </tr>\n",
       "    <tr>\n",
       "      <th>1</th>\n",
       "      <td>2</td>\n",
       "      <td>wolff dolla bill llc</td>\n",
       "      <td>1905 e 19th ave</td>\n",
       "      <td>tampa</td>\n",
       "      <td>fl</td>\n",
       "      <td>33605-2700</td>\n",
       "      <td>wolff dolla bill llc1905 e 19th avetampafl3360...</td>\n",
       "    </tr>\n",
       "    <tr>\n",
       "      <th>2</th>\n",
       "      <td>3</td>\n",
       "      <td>comprehensive surgery center, llc</td>\n",
       "      <td>1988 gulf to bay blvd, ste 1</td>\n",
       "      <td>clearwater</td>\n",
       "      <td>fl</td>\n",
       "      <td>33765-3550</td>\n",
       "      <td>comprehensive surgery center, llc1988 gulf to ...</td>\n",
       "    </tr>\n",
       "    <tr>\n",
       "      <th>3</th>\n",
       "      <td>4</td>\n",
       "      <td>frank &amp; adam apparel llc</td>\n",
       "      <td>13640 wright cir</td>\n",
       "      <td>tampa</td>\n",
       "      <td>fl</td>\n",
       "      <td>33626-3030</td>\n",
       "      <td>frank &amp; adam apparel llc13640 wright cirtampaf...</td>\n",
       "    </tr>\n",
       "    <tr>\n",
       "      <th>4</th>\n",
       "      <td>5</td>\n",
       "      <td>moreno plus transport inc</td>\n",
       "      <td>8608 huron court unite 58</td>\n",
       "      <td>tampa</td>\n",
       "      <td>fl</td>\n",
       "      <td>33614</td>\n",
       "      <td>moreno plus transport inc8608 huron court unit...</td>\n",
       "    </tr>\n",
       "    <tr>\n",
       "      <th>...</th>\n",
       "      <td>...</td>\n",
       "      <td>...</td>\n",
       "      <td>...</td>\n",
       "      <td>...</td>\n",
       "      <td>...</td>\n",
       "      <td>...</td>\n",
       "      <td>...</td>\n",
       "    </tr>\n",
       "    <tr>\n",
       "      <th>98504</th>\n",
       "      <td>201</td>\n",
       "      <td>tm inc. llc</td>\n",
       "      <td>4911 georgia ave</td>\n",
       "      <td>nashville</td>\n",
       "      <td>tn</td>\n",
       "      <td>37209-2135</td>\n",
       "      <td>tm inc. llc4911 georgia avenashvilletn37209-2135</td>\n",
       "    </tr>\n",
       "    <tr>\n",
       "      <th>98505</th>\n",
       "      <td>202</td>\n",
       "      <td>passion transportation services, llc</td>\n",
       "      <td>2005 quail dr</td>\n",
       "      <td>nashville</td>\n",
       "      <td>tn</td>\n",
       "      <td>37207</td>\n",
       "      <td>passion transportation services, llc2005 quail...</td>\n",
       "    </tr>\n",
       "    <tr>\n",
       "      <th>98506</th>\n",
       "      <td>203</td>\n",
       "      <td>rosie cleaning service/commercial</td>\n",
       "      <td>705 n 9th st</td>\n",
       "      <td>nashville</td>\n",
       "      <td>tn</td>\n",
       "      <td>37206-3907</td>\n",
       "      <td>rosie cleaning service/commercial705 n 9th stn...</td>\n",
       "    </tr>\n",
       "    <tr>\n",
       "      <th>98507</th>\n",
       "      <td>204</td>\n",
       "      <td>vicky bibbs</td>\n",
       "      <td>1249 dalemere dr</td>\n",
       "      <td>nashville</td>\n",
       "      <td>tn</td>\n",
       "      <td>37207-1236</td>\n",
       "      <td>vicky bibbs1249 dalemere drnashvilletn37207-1236</td>\n",
       "    </tr>\n",
       "    <tr>\n",
       "      <th>98508</th>\n",
       "      <td>205</td>\n",
       "      <td>the aquaducks llc</td>\n",
       "      <td>128 gordon ter</td>\n",
       "      <td>nashville</td>\n",
       "      <td>tn</td>\n",
       "      <td>37207-4534</td>\n",
       "      <td>the aquaducks llc128 gordon ternashvilletn3720...</td>\n",
       "    </tr>\n",
       "  </tbody>\n",
       "</table>\n",
       "<p>98509 rows × 7 columns</p>\n",
       "</div>"
      ],
      "text/plain": [
       "       business_id                                  name  \\\n",
       "0                1                 sourini painting inc.   \n",
       "1                2                  wolff dolla bill llc   \n",
       "2                3     comprehensive surgery center, llc   \n",
       "3                4              frank & adam apparel llc   \n",
       "4                5             moreno plus transport inc   \n",
       "...            ...                                   ...   \n",
       "98504          201                           tm inc. llc   \n",
       "98505          202  passion transportation services, llc   \n",
       "98506          203     rosie cleaning service/commercial   \n",
       "98507          204                           vicky bibbs   \n",
       "98508          205                     the aquaducks llc   \n",
       "\n",
       "                            address        city state    zip_code  \\\n",
       "0                   12800 44th st n  clearwater    fl  33762-4726   \n",
       "1                   1905 e 19th ave       tampa    fl  33605-2700   \n",
       "2      1988 gulf to bay blvd, ste 1  clearwater    fl  33765-3550   \n",
       "3                  13640 wright cir       tampa    fl  33626-3030   \n",
       "4         8608 huron court unite 58       tampa    fl       33614   \n",
       "...                             ...         ...   ...         ...   \n",
       "98504              4911 georgia ave   nashville    tn  37209-2135   \n",
       "98505                 2005 quail dr   nashville    tn       37207   \n",
       "98506                  705 n 9th st   nashville    tn  37206-3907   \n",
       "98507              1249 dalemere dr   nashville    tn  37207-1236   \n",
       "98508                128 gordon ter   nashville    tn  37207-4534   \n",
       "\n",
       "                                                 combine  \n",
       "0      sourini painting inc.12800 44th st nclearwater...  \n",
       "1      wolff dolla bill llc1905 e 19th avetampafl3360...  \n",
       "2      comprehensive surgery center, llc1988 gulf to ...  \n",
       "3      frank & adam apparel llc13640 wright cirtampaf...  \n",
       "4      moreno plus transport inc8608 huron court unit...  \n",
       "...                                                  ...  \n",
       "98504   tm inc. llc4911 georgia avenashvilletn37209-2135  \n",
       "98505  passion transportation services, llc2005 quail...  \n",
       "98506  rosie cleaning service/commercial705 n 9th stn...  \n",
       "98507   vicky bibbs1249 dalemere drnashvilletn37207-1236  \n",
       "98508  the aquaducks llc128 gordon ternashvilletn3720...  \n",
       "\n",
       "[98509 rows x 7 columns]"
      ]
     },
     "execution_count": 37,
     "metadata": {},
     "output_type": "execute_result"
    }
   ],
   "source": [
    "left['combine'] = left['name'] + left['address']+ left['city']+ left['state']+ left['zip_code']\n",
    "left = left.drop([\"size\"],axis=1)\n",
    "left"
   ]
  },
  {
   "cell_type": "markdown",
   "id": "a92450e6",
   "metadata": {
    "id": "a92450e6"
   },
   "source": [
    "### 1.1 Combine Name and Address then find accuracy as a whole"
   ]
  },
  {
   "cell_type": "code",
   "execution_count": 38,
   "id": "7f59d283",
   "metadata": {
    "id": "7f59d283"
   },
   "outputs": [],
   "source": [
    "#fix zip_code to prepare for tokenization\n",
    "left['zip_code'] = left['zip_code'].str.replace('-',' ')"
   ]
  },
  {
   "cell_type": "markdown",
   "id": "f07fc1d8",
   "metadata": {
    "id": "f07fc1d8"
   },
   "source": [
    "## Generate algorithm"
   ]
  },
  {
   "cell_type": "code",
   "execution_count": 44,
   "id": "AxS5GJXV8OVH",
   "metadata": {
    "id": "AxS5GJXV8OVH"
   },
   "outputs": [],
   "source": [
    "#keep only required fields\n",
    "left_df = left\n",
    "right_df = right.drop(['categories'], axis=1)"
   ]
  },
  {
   "cell_type": "code",
   "execution_count": 45,
   "id": "c512f467",
   "metadata": {
    "id": "UnGBtxPV8OXp"
   },
   "outputs": [],
   "source": [
    "# Rename any columns with similar names to allow merging.\n",
    "left_df = left_df.rename(columns={'business_id':'id'})\n",
    "right_df = right_df.rename(columns={'entity_id':'id','postal_code':'zip_code'})"
   ]
  },
  {
   "cell_type": "code",
   "execution_count": 46,
   "id": "eXnrH5SP8OZ_",
   "metadata": {
    "id": "eXnrH5SP8OZ_"
   },
   "outputs": [],
   "source": [
    "import re\n",
    "\n",
    "def preprocess_dataframe(df):\n",
    "    def clean_string(s):\n",
    "        return str(s).lower().replace(',', '').replace(' ', '').replace('[^a-zA-Z0-9\\s]', '')\n",
    "\n",
    "    def clean_address(s):\n",
    "        return re.sub(r'(.*), ([A-Z]{2}) (\\d{5})(-\\d{4})?', r'\\1, \\2\\3', s)\n",
    "\n",
    "    for col in ['name', 'address']:\n",
    "        #df[col] = df[col].str.lower().str.replace('[^a-zA-Z0-9\\s]', '')\n",
    "        df[col] = df[col].apply(clean_string)\n",
    "\n",
    "    df['address'] = df['address'].apply(clean_address)\n",
    "\n",
    "    df = df.dropna()\n",
    "\n",
    "    return df"
   ]
  },
  {
   "cell_type": "code",
   "execution_count": 47,
   "id": "YfE76VOQ8OcW",
   "metadata": {
    "id": "YfE76VOQ8OcW"
   },
   "outputs": [],
   "source": [
    "left_df_clean = preprocess_dataframe(left_df)\n",
    "right_df_clean = preprocess_dataframe(right_df)\n"
   ]
  },
  {
   "cell_type": "code",
   "execution_count": 52,
   "id": "969789d8",
   "metadata": {},
   "outputs": [],
   "source": [
    "left_df_clean = left_df_clean [:500]\n",
    "right_df_clean = right_df_clean[:500]"
   ]
  },
  {
   "cell_type": "code",
   "execution_count": 53,
   "id": "05f85029",
   "metadata": {},
   "outputs": [
    {
     "name": "stdout",
     "output_type": "stream",
     "text": [
      "<class 'pandas.core.frame.DataFrame'>\n",
      "RangeIndex: 500 entries, 1 to 9981\n",
      "Data columns (total 7 columns):\n",
      " #   Column    Non-Null Count  Dtype \n",
      "---  ------    --------------  ----- \n",
      " 0   id        500 non-null    uint8 \n",
      " 1   name      500 non-null    object\n",
      " 2   address   500 non-null    object\n",
      " 3   city      500 non-null    object\n",
      " 4   state     500 non-null    object\n",
      " 5   zip_code  500 non-null    object\n",
      " 6   combine   500 non-null    object\n",
      "dtypes: object(6), uint8(1)\n",
      "memory usage: 24.1+ KB\n"
     ]
    }
   ],
   "source": [
    "left_df_clean.info()"
   ]
  },
  {
   "cell_type": "markdown",
   "id": "a604bdb7",
   "metadata": {},
   "source": [
    "# METHOD - 1 fuzzywuzzy technique"
   ]
  },
  {
   "cell_type": "code",
   "execution_count": 54,
   "id": "856cbe78",
   "metadata": {},
   "outputs": [],
   "source": [
    "# Matching\n",
    "matches = []\n",
    "for left_idx, left_row in left_df_clean.iterrows():\n",
    "    for right_idx, right_row in right_df_clean.iterrows():\n",
    "        name_similarity = fuzz.token_sort_ratio(left_row['name'], right_row['name']) / 100\n",
    "        address_similarity = fuzz.ratio(left_row['address'], right_row['address']) / 100\n",
    "        confidence_score = 0.6 * name_similarity + 0.4 * address_similarity\n",
    "        if confidence_score >= 0.8:\n",
    "            matches.append({'left_id': left_row['id'], 'right_id': right_row['id'], 'confidence_score': confidence_score})\n",
    "            #matches.append({'left_id': left_row['name'], 'right_id': right_row['name'], 'confidence_score': confidence_score})\n",
    "\n",
    "# Postprocessing\n",
    "matches_df = pd.DataFrame(matches).sort_values(by='confidence_score', ascending=False)\n",
    "matches_df.drop_duplicates(subset=['left_id'], keep='first', inplace=True)\n",
    "matches_df.reset_index(drop=True, inplace=True)\n",
    "\n",
    "# Output\n",
    "matches_df.to_csv('matches_fuzzy.csv', index=False)"
   ]
  },
  {
   "cell_type": "markdown",
   "id": "7eddab15",
   "metadata": {},
   "source": [
    "# Method -2 JW_similarity"
   ]
  },
  {
   "cell_type": "code",
   "execution_count": 59,
   "id": "a47e5a2f",
   "metadata": {},
   "outputs": [],
   "source": [
    "def jw_similarity(s1, s2):\n",
    "    s1 = str(s1).lower()\n",
    "    s2 = str(s2).lower()\n",
    "    return jellyfish.jaro_winkler(s1, s2)"
   ]
  },
  {
   "cell_type": "code",
   "execution_count": 60,
   "id": "b0fb8274",
   "metadata": {},
   "outputs": [],
   "source": [
    "#Define a function to find approximate matches between the two datasets\n",
    "def find_matches(left_df, right_df, threshold=0.8):\n",
    "    # Initialize an empty list to store the results\n",
    "    results = []\n",
    "    \n",
    "    # Loop over each row in the left dataset\n",
    "    for i, left_row in left_df_clean.iterrows():\n",
    "        # Loop over each row in the right dataset\n",
    "        for j, right_row in right_df_clean.iterrows():\n",
    "            # Calculate the Jaro-Winkler similarity score between the business names and addresses\n",
    "            name_score = jw_similarity(left_row['name'], right_row['name'])\n",
    "            addr_score = jw_similarity(left_row['address'], right_row['address'])\n",
    "            # Calculate the overall similarity score as the average of the name and address scores\n",
    "            score = (name_score + addr_score) / 2\n",
    "            # If the score is above the threshold, add the match to the results list\n",
    "            if score >= threshold:\n",
    "                results.append({'left_id': left_row['id'], 'right_id': right_row['id'], 'score': score})\n",
    "    \n",
    "    # Return the results as a pandas DataFrame\n",
    "    return pd.DataFrame(results)"
   ]
  },
  {
   "cell_type": "code",
   "execution_count": 61,
   "id": "7443a851",
   "metadata": {},
   "outputs": [],
   "source": [
    "# Find the matches between the two datasets\n",
    "matches = find_matches(left_df_clean, right_df_clean, threshold=0.8)\n",
    "# Save the matches to a CSV file\n",
    "matches.to_csv('matches_jw.csv', index=False)"
   ]
  },
  {
   "cell_type": "markdown",
   "id": "6e49b292",
   "metadata": {},
   "source": [
    "# Method - 3 with list comprehension and jwsimilarity to increase computation"
   ]
  },
  {
   "cell_type": "code",
   "execution_count": 62,
   "id": "757b8928",
   "metadata": {},
   "outputs": [],
   "source": [
    "# Define a function to find approximate matches between the two datasets\n",
    "def find_matches(left_df, right_df, threshold=0.8):\n",
    "    # Calculate the Jaro-Winkler similarity scores for all rows in both data frames\n",
    "    name_scores = [jw_similarity(left_row['name'], right_row['name']) for _, left_row in left_df.iterrows() for _, right_row in right_df.iterrows()]\n",
    "    addr_scores = [jw_similarity(left_row['address'], right_row['address']) for _, left_row in left_df.iterrows() for _, right_row in right_df.iterrows()]\n",
    "    # Calculate the overall similarity scores as the average of the name and address scores\n",
    "    scores = [(name_score + addr_score) / 2 for name_score, addr_score in zip(name_scores, addr_scores)]\n",
    "    # Create a list of matches where the score is above the threshold\n",
    "    matches = [{'left_id': left_df.iloc[i]['id'], 'right_id': right_df.iloc[j]['id'], 'score': score} for i, (_, left_row) in enumerate(left_df.iterrows()) for j, (_, right_row) in enumerate(right_df.iterrows()) for score in [scores[i * len(right_df) + j]] if score >= threshold]\n",
    "    # Return the matches as a pandas DataFrame\n",
    "    return pd.DataFrame(matches)"
   ]
  },
  {
   "cell_type": "code",
   "execution_count": 63,
   "id": "08b5943e",
   "metadata": {},
   "outputs": [],
   "source": [
    "# Find the matches between the two datasets\n",
    "matches = find_matches(left_df_clean, right_df_clean, threshold=0.8)\n",
    "# Save the matches to a CSV file\n",
    "matches.to_csv('matches_jw_list.csv', index=False)"
   ]
  },
  {
   "cell_type": "markdown",
   "id": "d48f5289",
   "metadata": {},
   "source": [
    "# Method 4- fuzzywuzzy with Combined address + city + State + zip code"
   ]
  },
  {
   "cell_type": "code",
   "execution_count": 69,
   "id": "pa8b6ZRI8Oim",
   "metadata": {
    "id": "pa8b6ZRI8Oim"
   },
   "outputs": [],
   "source": [
    "# Concatenate city, state, and zip code into the address column\n",
    "left_df['full_address'] = (left_df['address'] + ' '\n",
    "                           + left_df['city'].fillna('') + ' '\n",
    "                           + left_df['state'].fillna('') + ' '\n",
    "                           + left_df['zip_code'].fillna('').str.replace('-', '').astype(str))\n",
    "\n",
    "right_df['full_address'] = (right_df['address'] + ' '\n",
    "                            + right_df['city'].fillna('') + ' '\n",
    "                            + right_df['state'].fillna('') + ' '\n",
    "                            + right_df['zip_code'].astype(str).fillna('').str.replace('-', ''))\n",
    "\n",
    "\n",
    "# Preprocess the address column\n",
    "left_df['full_address'] = left_df['full_address'].apply(lambda x: process.extractOne(x, choices=left_df['full_address'], scorer=fuzz.token_sort_ratio)[0])\n",
    "right_df['full_address'] = right_df['full_address'].apply(lambda x: process.extractOne(x, choices=right_df['full_address'], scorer=fuzz.token_sort_ratio)[0])\n",
    "\n",
    "\n",
    "# Matching\n",
    "matches = []\n",
    "for left_idx, left_row in left_df.iterrows():\n",
    "    for right_idx, right_row in right_df.iterrows():\n",
    "        name_similarity = fuzz.token_sort_ratio(left_row['name'], right_row['name']) / 100\n",
    "        address_similarity = fuzz.token_sort_ratio(left_row['full_address'], right_row['full_address']) / 100\n",
    "        confidence_score = 0.6 * name_similarity + 0.4 * address_similarity\n",
    "        if confidence_score >= 0.8:\n",
    "            matches.append({'entity_id': left_row['id'], 'business_id': right_row['id'], 'confidence_score': confidence_score})\n",
    "\n",
    "# Output\n",
    "matches_df4 = pd.DataFrame(matches)\n",
    "matches_df4.to_csv('matches_added.csv', index=False)\n"
   ]
  },
  {
   "cell_type": "markdown",
   "id": "fc0b3c32",
   "metadata": {
    "id": "lxADtwHU8Okq"
   },
   "source": [
    "# Method 5 - with LSH"
   ]
  },
  {
   "cell_type": "code",
   "execution_count": 71,
   "id": "a4d6a141",
   "metadata": {},
   "outputs": [],
   "source": [
    "from fuzzywuzzy import fuzz, process\n",
    "from joblib import Parallel, delayed\n",
    "\n",
    "# Define a function to preprocess the full_address column\n",
    "def preprocess_address(address):\n",
    "    return process.extractOne(address, choices=address_series, scorer=fuzz.token_sort_ratio)[0]\n",
    "\n",
    "# Concatenate city, state, and zip code into the address column\n",
    "left_df['full_address'] = left_df['address'].str.cat([left_df['city'].fillna(''), left_df['state'].fillna(''), left_df['zip_code'].fillna('').str.replace('-', '').astype(str)], sep=' ')\n",
    "right_df['full_address'] = right_df['address'].str.cat([right_df['city'].fillna(''), right_df['state'].fillna(''), right_df['zip_code'].astype(str).fillna('').str.replace('-', '')], sep=' ')\n"
   ]
  },
  {
   "cell_type": "code",
   "execution_count": 72,
   "id": "38fb206a",
   "metadata": {},
   "outputs": [
    {
     "name": "stderr",
     "output_type": "stream",
     "text": [
      "/Users/arshithas/opt/anaconda3/lib/python3.9/site-packages/fuzzywuzzy/fuzz.py:11: UserWarning: Using slow pure-python SequenceMatcher. Install python-Levenshtein to remove this warning\n",
      "  warnings.warn('Using slow pure-python SequenceMatcher. Install python-Levenshtein to remove this warning')\n",
      "/Users/arshithas/opt/anaconda3/lib/python3.9/site-packages/fuzzywuzzy/fuzz.py:11: UserWarning: Using slow pure-python SequenceMatcher. Install python-Levenshtein to remove this warning\n",
      "  warnings.warn('Using slow pure-python SequenceMatcher. Install python-Levenshtein to remove this warning')\n",
      "/Users/arshithas/opt/anaconda3/lib/python3.9/site-packages/fuzzywuzzy/fuzz.py:11: UserWarning: Using slow pure-python SequenceMatcher. Install python-Levenshtein to remove this warning\n",
      "  warnings.warn('Using slow pure-python SequenceMatcher. Install python-Levenshtein to remove this warning')\n",
      "/Users/arshithas/opt/anaconda3/lib/python3.9/site-packages/fuzzywuzzy/fuzz.py:11: UserWarning: Using slow pure-python SequenceMatcher. Install python-Levenshtein to remove this warning\n",
      "  warnings.warn('Using slow pure-python SequenceMatcher. Install python-Levenshtein to remove this warning')\n",
      "/Users/arshithas/opt/anaconda3/lib/python3.9/site-packages/fuzzywuzzy/fuzz.py:11: UserWarning: Using slow pure-python SequenceMatcher. Install python-Levenshtein to remove this warning\n",
      "  warnings.warn('Using slow pure-python SequenceMatcher. Install python-Levenshtein to remove this warning')\n",
      "/Users/arshithas/opt/anaconda3/lib/python3.9/site-packages/fuzzywuzzy/fuzz.py:11: UserWarning: Using slow pure-python SequenceMatcher. Install python-Levenshtein to remove this warning\n",
      "  warnings.warn('Using slow pure-python SequenceMatcher. Install python-Levenshtein to remove this warning')\n",
      "/Users/arshithas/opt/anaconda3/lib/python3.9/site-packages/fuzzywuzzy/fuzz.py:11: UserWarning: Using slow pure-python SequenceMatcher. Install python-Levenshtein to remove this warning\n",
      "  warnings.warn('Using slow pure-python SequenceMatcher. Install python-Levenshtein to remove this warning')\n",
      "/Users/arshithas/opt/anaconda3/lib/python3.9/site-packages/fuzzywuzzy/fuzz.py:11: UserWarning: Using slow pure-python SequenceMatcher. Install python-Levenshtein to remove this warning\n",
      "  warnings.warn('Using slow pure-python SequenceMatcher. Install python-Levenshtein to remove this warning')\n"
     ]
    }
   ],
   "source": [
    "# Create a series of all the addresses to use for preprocessing\n",
    "address_series = pd.concat([left_df['full_address'], right_df['full_address']])\n",
    "\n",
    "# Preprocess the address column using parallel processing\n",
    "preprocessed_addresses = Parallel(n_jobs=-1)(delayed(preprocess_address)(address) for address in address_series)\n"
   ]
  },
  {
   "cell_type": "code",
   "execution_count": 73,
   "id": "ac563d7b",
   "metadata": {},
   "outputs": [],
   "source": [
    "# Update the full_address column with the preprocessed addresses\n",
    "left_df['full_address'] = preprocessed_addresses[:len(left_df)]\n",
    "right_df['full_address'] = preprocessed_addresses[len(left_df):]\n",
    "\n",
    "# Define a function to match the rows\n",
    "def match_rows(left_row, right_df):\n",
    "    matches = []\n",
    "    for right_idx, right_row in right_df.iterrows():\n",
    "        name_similarity = fuzz.token_sort_ratio(left_row['name'], right_row['name']) / 100\n",
    "        address_similarity = fuzz.token_sort_ratio(left_row['full_address'], right_row['full_address']) / 100\n",
    "        confidence_score = 0.6 * name_similarity + 0.4 * address_similarity\n",
    "        if confidence_score >= 0.8:\n",
    "            matches.append({'entity_id': left_row['id'], 'business_id': right_row['id'], 'confidence_score': confidence_score})\n",
    "    return matches\n",
    "\n",
    "# Use parallel processing to match the rows\n",
    "matches = Parallel(n_jobs=-1)(delayed(match_rows)(left_row, right_df) for left_idx, left_row in left_df.iterrows())\n",
    "\n",
    "# Flatten the list of matches and convert it to a pandas DataFrame\n",
    "matches_df = pd.DataFrame([match for matches_list in matches for match in matches_list])\n",
    "\n",
    "# Output the matches to a CSV file\n",
    "matches_df.to_csv('matches_parallel.csv', index=False)"
   ]
  },
  {
   "cell_type": "code",
   "execution_count": null,
   "id": "1abe12d5",
   "metadata": {},
   "outputs": [],
   "source": []
  }
 ],
 "metadata": {
  "colab": {
   "provenance": []
  },
  "kernelspec": {
   "display_name": "Python 3 (ipykernel)",
   "language": "python",
   "name": "python3"
  },
  "language_info": {
   "codemirror_mode": {
    "name": "ipython",
    "version": 3
   },
   "file_extension": ".py",
   "mimetype": "text/x-python",
   "name": "python",
   "nbconvert_exporter": "python",
   "pygments_lexer": "ipython3",
   "version": "3.9.13"
  }
 },
 "nbformat": 4,
 "nbformat_minor": 5
}
